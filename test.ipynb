{
 "cells": [
  {
   "cell_type": "code",
   "execution_count": 7,
   "id": "cc258709",
   "metadata": {},
   "outputs": [],
   "source": [
    "import math\n",
    "import numpy as np"
   ]
  },
  {
   "cell_type": "code",
   "execution_count": 47,
   "id": "e47ed945",
   "metadata": {},
   "outputs": [],
   "source": [
    "l = [1.8, 2.4, 5.2, 6.6, 1.8, 1.2, 1.0, 8.0, 1.6, 4.4]"
   ]
  },
  {
   "cell_type": "code",
   "execution_count": 48,
   "id": "fedf528b",
   "metadata": {},
   "outputs": [
    {
     "data": {
      "text/plain": [
       "array([1.8, 2.4, 5.2, 6.6, 1.8, 1.2, 1. , 8. , 1.6, 4.4])"
      ]
     },
     "execution_count": 48,
     "metadata": {},
     "output_type": "execute_result"
    }
   ],
   "source": [
    "np_l = np.array(l)\n",
    "np_l"
   ]
  },
  {
   "cell_type": "code",
   "execution_count": 57,
   "id": "e9effb12",
   "metadata": {},
   "outputs": [],
   "source": [
    "def softmax(array, T=1.0):\n",
    "    exp_array = np.exp(array / T)\n",
    "    sum_exp = sum(exp_array)\n",
    "    exp_array = exp_array / sum_exp\n",
    "    return exp_array"
   ]
  },
  {
   "cell_type": "code",
   "execution_count": 58,
   "id": "a77dac80",
   "metadata": {},
   "outputs": [
    {
     "data": {
      "text/plain": [
       "array([1.50755370e-03, 2.74694194e-03, 4.51724900e-02, 1.83183480e-01,\n",
       "       1.50755370e-03, 8.27363014e-04, 6.77387544e-04, 7.42845642e-01,\n",
       "       1.23428058e-03, 2.02973081e-02])"
      ]
     },
     "execution_count": 58,
     "metadata": {},
     "output_type": "execute_result"
    }
   ],
   "source": [
    "ret = softmax(np_l, 1.0)\n",
    "ret"
   ]
  },
  {
   "cell_type": "code",
   "execution_count": 59,
   "id": "f00f17a7",
   "metadata": {},
   "outputs": [
    {
     "name": "stdout",
     "output_type": "stream",
     "text": [
      "0.0015\n",
      "0.0027\n",
      "0.0452\n",
      "0.1832\n",
      "0.0015\n",
      "0.0008\n",
      "0.0007\n",
      "0.7428\n",
      "0.0012\n",
      "0.0203\n"
     ]
    }
   ],
   "source": [
    "for num in ret.tolist():\n",
    "    print(f\"{num:.4f}\")"
   ]
  },
  {
   "cell_type": "code",
   "execution_count": 65,
   "id": "53a6e32b",
   "metadata": {},
   "outputs": [
    {
     "name": "stdout",
     "output_type": "stream",
     "text": [
      "0.0321\n",
      "0.0408\n",
      "0.1249\n",
      "0.2187\n",
      "0.0321\n",
      "0.0252\n",
      "0.0233\n",
      "0.3828\n",
      "0.0296\n",
      "0.0907\n"
     ]
    }
   ],
   "source": [
    "ret = softmax(np_l, 2.5)\n",
    "for num in ret.tolist():\n",
    "    print(f\"{num:.4f}\")"
   ]
  },
  {
   "cell_type": "code",
   "execution_count": null,
   "id": "625f2234",
   "metadata": {},
   "outputs": [],
   "source": []
  }
 ],
 "metadata": {
  "kernelspec": {
   "display_name": "Python 3 (ipykernel)",
   "language": "python",
   "name": "python3"
  },
  "language_info": {
   "codemirror_mode": {
    "name": "ipython",
    "version": 3
   },
   "file_extension": ".py",
   "mimetype": "text/x-python",
   "name": "python",
   "nbconvert_exporter": "python",
   "pygments_lexer": "ipython3",
   "version": "3.8.5"
  }
 },
 "nbformat": 4,
 "nbformat_minor": 5
}
